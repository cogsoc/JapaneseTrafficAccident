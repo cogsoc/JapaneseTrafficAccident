{
 "cells": [
  {
   "cell_type": "code",
   "execution_count": 1,
   "id": "e174aaba",
   "metadata": {},
   "outputs": [],
   "source": [
    "import pandas as pd\n",
    "import seaborn as sns"
   ]
  },
  {
   "cell_type": "code",
   "execution_count": 32,
   "id": "2c8e26e7",
   "metadata": {},
   "outputs": [
    {
     "name": "stdout",
     "output_type": "stream",
     "text": [
      "1.3.4\n",
      "0.11.2\n"
     ]
    }
   ],
   "source": [
    "print(pd.__version__)\n",
    "print(sns.__version__)"
   ]
  },
  {
   "cell_type": "code",
   "execution_count": 2,
   "id": "525df46b",
   "metadata": {},
   "outputs": [],
   "source": [
    "accident2019 = pd.read_csv(\"Data/honhyo_2019.csv\", encoding=\"Shift-JIS\")\n",
    "accident_supplement_2019 = pd.read_csv(\"Data/hojuhyo_2019.csv\", encoding=\"Shift-JIS\")\n",
    "accident_motorway_2019 = pd.read_csv(\"Data/kosokuhyo_2019.csv\", encoding=\"Shift-JIS\")"
   ]
  },
  {
   "cell_type": "code",
   "execution_count": 3,
   "id": "e3ba75ff",
   "metadata": {},
   "outputs": [
    {
     "data": {
      "text/plain": [
       "Index(['資料区分', '都道府県コード', '警察署等コード', '本票番号', '事故内容', '死者数', '負傷者数', '路線コード',\n",
       "       '上下線', '地点コード', '市区町村コード', '発生日時　　年', '発生日時　　月', '発生日時　　日', '発生日時　　時',\n",
       "       '発生日時　　分', '昼夜', '天候', '地形', '路面状態', '道路形状', '環状交差点の直径', '信号機',\n",
       "       '一時停止規制　標識（当事者A）', '一時停止規制　表示（当事者A）', '一時停止規制　標識（当事者B）',\n",
       "       '一時停止規制　表示（当事者B）', '車道幅員', '道路線形', '衝突地点', 'ゾーン規制', '中央分離帯施設等', '歩車道区分',\n",
       "       '事故類型', '年齢（当事者A）', '年齢（当事者B）', '当事者種別（当事者A）', '当事者種別（当事者B）',\n",
       "       '用途別（当事者A）', '用途別（当事者B）', '車両形状（当事者A）', '車両形状（当事者B）',\n",
       "       '速度規制（指定のみ）（当事者A）', '速度規制（指定のみ）（当事者B）', '車両の衝突部位（当事者A）',\n",
       "       '車両の衝突部位（当事者B）', '車両の損壊程度（当事者A）', '車両の損壊程度（当事者B）', 'エアバッグの装備（当事者A）',\n",
       "       'エアバッグの装備（当事者B）', 'サイドエアバッグの装備（当事者A）', 'サイドエアバッグの装備（当事者B）',\n",
       "       '人身損傷程度（当事者A）', '人身損傷程度（当事者B）', '地点　緯度（北緯）', '地点　経度（東経）', '曜日(発生年月日)',\n",
       "       '祝日(発生年月日)'],\n",
       "      dtype='object')"
      ]
     },
     "execution_count": 3,
     "metadata": {},
     "output_type": "execute_result"
    }
   ],
   "source": [
    "accident2019.columns"
   ]
  },
  {
   "cell_type": "code",
   "execution_count": 4,
   "id": "8268e92a",
   "metadata": {},
   "outputs": [
    {
     "data": {
      "text/plain": [
       "Index(['資料区分', '都道府県コード', '警察署等コード', '本票番号', '補充票番号', '当事者種別', '乗車別', '乗車等の区分',\n",
       "       'エアバッグの装備', 'サイドエアバッグの装備', '人身損傷程度', '用途別', '車両形状', '車両の衝突部位',\n",
       "       '車両の損壊程度'],\n",
       "      dtype='object')"
      ]
     },
     "execution_count": 4,
     "metadata": {},
     "output_type": "execute_result"
    }
   ],
   "source": [
    "accident_supplement_2019.columns"
   ]
  },
  {
   "cell_type": "code",
   "execution_count": 5,
   "id": "5a5d56b1",
   "metadata": {},
   "outputs": [
    {
     "data": {
      "text/plain": [
       "Index(['資料区分', '都道府県コード', '警察署等コード', '本票番号', '発生地点', '道路管理者区分', '道路区分', '道路構造',\n",
       "       '曲線半径', '縦断勾配', 'トンネル番号', '当事者車両台数', '事故類型', '車両単独事故の対象物', '臨時速度規制の有無',\n",
       "       '速度規制（臨時のみ）', 'トンネル延長距離'],\n",
       "      dtype='object')"
      ]
     },
     "execution_count": 5,
     "metadata": {},
     "output_type": "execute_result"
    }
   ],
   "source": [
    "accident_motorway_2019.columns"
   ]
  },
  {
   "cell_type": "code",
   "execution_count": 6,
   "id": "6530d676",
   "metadata": {},
   "outputs": [
    {
     "data": {
      "text/plain": [
       "(381237, 58)"
      ]
     },
     "execution_count": 6,
     "metadata": {},
     "output_type": "execute_result"
    }
   ],
   "source": [
    "accident2019.shape"
   ]
  },
  {
   "cell_type": "code",
   "execution_count": 7,
   "id": "1e5e2be9",
   "metadata": {},
   "outputs": [
    {
     "data": {
      "text/plain": [
       "(7094, 17)"
      ]
     },
     "execution_count": 7,
     "metadata": {},
     "output_type": "execute_result"
    }
   ],
   "source": [
    "accident_motorway_2019.shape"
   ]
  },
  {
   "cell_type": "code",
   "execution_count": 8,
   "id": "d0b85af6",
   "metadata": {},
   "outputs": [],
   "source": [
    "result = pd.merge(accident2019, accident_motorway_2019, how = \"inner\", on = ['都道府県コード', '警察署等コード', '本票番号'])"
   ]
  },
  {
   "cell_type": "code",
   "execution_count": 9,
   "id": "6b731f38",
   "metadata": {},
   "outputs": [
    {
     "data": {
      "text/plain": [
       "(7094, 72)"
      ]
     },
     "execution_count": 9,
     "metadata": {},
     "output_type": "execute_result"
    }
   ],
   "source": [
    "result.shape"
   ]
  },
  {
   "cell_type": "code",
   "execution_count": 10,
   "id": "7b6e0e6f",
   "metadata": {},
   "outputs": [],
   "source": [
    "accident2020 = pd.read_csv(\"Data/honhyo_2020.csv\", encoding=\"Shift-JIS\")\n",
    "accident_supplement_2020 = pd.read_csv(\"Data/hojuhyo_2020.csv\", encoding=\"Shift-JIS\")\n",
    "accident_motorway_2020 = pd.read_csv(\"Data/kosokuhyo_2020.csv\", encoding=\"Shift-JIS\")"
   ]
  },
  {
   "cell_type": "code",
   "execution_count": 11,
   "id": "0ae40682",
   "metadata": {},
   "outputs": [],
   "source": [
    "accident2021 = pd.read_csv(\"Data/honhyo_2021.csv\", encoding=\"Shift-JIS\")\n",
    "accident_supplement_2021 = pd.read_csv(\"Data/hojuhyo_2021.csv\", encoding=\"Shift-JIS\")\n",
    "accident_motorway_2021 = pd.read_csv(\"Data/kosokuhyo_2021.csv\", encoding=\"Shift-JIS\")"
   ]
  },
  {
   "cell_type": "code",
   "execution_count": 12,
   "id": "db18cb8b",
   "metadata": {},
   "outputs": [
    {
     "data": {
      "text/plain": [
       "(995611, 58)"
      ]
     },
     "execution_count": 12,
     "metadata": {},
     "output_type": "execute_result"
    }
   ],
   "source": [
    "accident_all = pd.concat([accident2019,accident2020,accident2021])\n",
    "accident_all.shape"
   ]
  },
  {
   "cell_type": "code",
   "execution_count": 13,
   "id": "62d87edc",
   "metadata": {},
   "outputs": [],
   "source": [
    "accident2019[\"date\"] = pd.to_datetime({\"year\":accident2019[\"発生日時　　年\"],\"month\":accident2019[\"発生日時　　月\"],\"day\":accident2019[\"発生日時　　日\"]})\n",
    "accident_all[\"date\"] = pd.to_datetime({\"year\":accident_all[\"発生日時　　年\"],\"month\":accident_all[\"発生日時　　月\"],\"day\":accident_all[\"発生日時　　日\"]})"
   ]
  },
  {
   "cell_type": "code",
   "execution_count": 14,
   "id": "ac8ab045",
   "metadata": {
    "scrolled": true
   },
   "outputs": [
    {
     "data": {
      "text/html": [
       "<div>\n",
       "<style scoped>\n",
       "    .dataframe tbody tr th:only-of-type {\n",
       "        vertical-align: middle;\n",
       "    }\n",
       "\n",
       "    .dataframe tbody tr th {\n",
       "        vertical-align: top;\n",
       "    }\n",
       "\n",
       "    .dataframe thead th {\n",
       "        text-align: right;\n",
       "    }\n",
       "</style>\n",
       "<table border=\"1\" class=\"dataframe\">\n",
       "  <thead>\n",
       "    <tr style=\"text-align: right;\">\n",
       "      <th></th>\n",
       "      <th>資料区分</th>\n",
       "      <th>都道府県コード</th>\n",
       "      <th>警察署等コード</th>\n",
       "      <th>本票番号</th>\n",
       "      <th>事故内容</th>\n",
       "      <th>死者数</th>\n",
       "      <th>負傷者数</th>\n",
       "      <th>路線コード</th>\n",
       "      <th>上下線</th>\n",
       "      <th>地点コード</th>\n",
       "      <th>...</th>\n",
       "      <th>エアバッグの装備（当事者B）</th>\n",
       "      <th>サイドエアバッグの装備（当事者A）</th>\n",
       "      <th>サイドエアバッグの装備（当事者B）</th>\n",
       "      <th>人身損傷程度（当事者A）</th>\n",
       "      <th>人身損傷程度（当事者B）</th>\n",
       "      <th>地点　緯度（北緯）</th>\n",
       "      <th>地点　経度（東経）</th>\n",
       "      <th>曜日(発生年月日)</th>\n",
       "      <th>祝日(発生年月日)</th>\n",
       "      <th>date</th>\n",
       "    </tr>\n",
       "  </thead>\n",
       "  <tbody>\n",
       "    <tr>\n",
       "      <th>0</th>\n",
       "      <td>1</td>\n",
       "      <td>10</td>\n",
       "      <td>59</td>\n",
       "      <td>1</td>\n",
       "      <td>2</td>\n",
       "      <td>0</td>\n",
       "      <td>1</td>\n",
       "      <td>40030</td>\n",
       "      <td>2</td>\n",
       "      <td>0</td>\n",
       "      <td>...</td>\n",
       "      <td>2</td>\n",
       "      <td>2</td>\n",
       "      <td>2</td>\n",
       "      <td>4</td>\n",
       "      <td>4</td>\n",
       "      <td>431412959</td>\n",
       "      <td>1414947029</td>\n",
       "      <td>6</td>\n",
       "      <td>3</td>\n",
       "      <td>2018-12-28</td>\n",
       "    </tr>\n",
       "    <tr>\n",
       "      <th>1</th>\n",
       "      <td>1</td>\n",
       "      <td>10</td>\n",
       "      <td>59</td>\n",
       "      <td>2</td>\n",
       "      <td>2</td>\n",
       "      <td>0</td>\n",
       "      <td>2</td>\n",
       "      <td>40020</td>\n",
       "      <td>2</td>\n",
       "      <td>0</td>\n",
       "      <td>...</td>\n",
       "      <td>2</td>\n",
       "      <td>2</td>\n",
       "      <td>2</td>\n",
       "      <td>4</td>\n",
       "      <td>4</td>\n",
       "      <td>425706029</td>\n",
       "      <td>1413039991</td>\n",
       "      <td>1</td>\n",
       "      <td>3</td>\n",
       "      <td>2019-01-06</td>\n",
       "    </tr>\n",
       "    <tr>\n",
       "      <th>2</th>\n",
       "      <td>1</td>\n",
       "      <td>10</td>\n",
       "      <td>59</td>\n",
       "      <td>3</td>\n",
       "      <td>2</td>\n",
       "      <td>0</td>\n",
       "      <td>1</td>\n",
       "      <td>50020</td>\n",
       "      <td>1</td>\n",
       "      <td>0</td>\n",
       "      <td>...</td>\n",
       "      <td>2</td>\n",
       "      <td>2</td>\n",
       "      <td>2</td>\n",
       "      <td>4</td>\n",
       "      <td>4</td>\n",
       "      <td>424115557</td>\n",
       "      <td>1414158530</td>\n",
       "      <td>3</td>\n",
       "      <td>3</td>\n",
       "      <td>2018-12-18</td>\n",
       "    </tr>\n",
       "    <tr>\n",
       "      <th>3</th>\n",
       "      <td>1</td>\n",
       "      <td>10</td>\n",
       "      <td>59</td>\n",
       "      <td>4</td>\n",
       "      <td>2</td>\n",
       "      <td>0</td>\n",
       "      <td>1</td>\n",
       "      <td>40020</td>\n",
       "      <td>2</td>\n",
       "      <td>0</td>\n",
       "      <td>...</td>\n",
       "      <td>1</td>\n",
       "      <td>2</td>\n",
       "      <td>2</td>\n",
       "      <td>4</td>\n",
       "      <td>2</td>\n",
       "      <td>425647051</td>\n",
       "      <td>1413100440</td>\n",
       "      <td>7</td>\n",
       "      <td>3</td>\n",
       "      <td>2019-01-05</td>\n",
       "    </tr>\n",
       "    <tr>\n",
       "      <th>4</th>\n",
       "      <td>1</td>\n",
       "      <td>10</td>\n",
       "      <td>59</td>\n",
       "      <td>5</td>\n",
       "      <td>2</td>\n",
       "      <td>0</td>\n",
       "      <td>1</td>\n",
       "      <td>40140</td>\n",
       "      <td>2</td>\n",
       "      <td>0</td>\n",
       "      <td>...</td>\n",
       "      <td>2</td>\n",
       "      <td>2</td>\n",
       "      <td>2</td>\n",
       "      <td>4</td>\n",
       "      <td>2</td>\n",
       "      <td>425606992</td>\n",
       "      <td>1420518034</td>\n",
       "      <td>2</td>\n",
       "      <td>2</td>\n",
       "      <td>2018-12-31</td>\n",
       "    </tr>\n",
       "  </tbody>\n",
       "</table>\n",
       "<p>5 rows × 59 columns</p>\n",
       "</div>"
      ],
      "text/plain": [
       "   資料区分  都道府県コード  警察署等コード  本票番号  事故内容  死者数  負傷者数  路線コード  上下線  地点コード  ...  \\\n",
       "0     1       10       59     1     2    0     1  40030    2      0  ...   \n",
       "1     1       10       59     2     2    0     2  40020    2      0  ...   \n",
       "2     1       10       59     3     2    0     1  50020    1      0  ...   \n",
       "3     1       10       59     4     2    0     1  40020    2      0  ...   \n",
       "4     1       10       59     5     2    0     1  40140    2      0  ...   \n",
       "\n",
       "   エアバッグの装備（当事者B）  サイドエアバッグの装備（当事者A）  サイドエアバッグの装備（当事者B）  人身損傷程度（当事者A）  \\\n",
       "0               2                  2                  2             4   \n",
       "1               2                  2                  2             4   \n",
       "2               2                  2                  2             4   \n",
       "3               1                  2                  2             4   \n",
       "4               2                  2                  2             4   \n",
       "\n",
       "   人身損傷程度（当事者B）  地点　緯度（北緯）   地点　経度（東経）  曜日(発生年月日)  祝日(発生年月日)       date  \n",
       "0             4  431412959  1414947029          6          3 2018-12-28  \n",
       "1             4  425706029  1413039991          1          3 2019-01-06  \n",
       "2             4  424115557  1414158530          3          3 2018-12-18  \n",
       "3             2  425647051  1413100440          7          3 2019-01-05  \n",
       "4             2  425606992  1420518034          2          2 2018-12-31  \n",
       "\n",
       "[5 rows x 59 columns]"
      ]
     },
     "execution_count": 14,
     "metadata": {},
     "output_type": "execute_result"
    }
   ],
   "source": [
    "accident_all.head()"
   ]
  },
  {
   "cell_type": "code",
   "execution_count": 15,
   "id": "61970c0b",
   "metadata": {},
   "outputs": [],
   "source": [
    "fileType = pd.read_csv(\"Data/master/1_koudohyou_siryoukubun.csv\", skiprows=4, usecols = range(0,2))"
   ]
  },
  {
   "cell_type": "code",
   "execution_count": 16,
   "id": "7ea7b407",
   "metadata": {
    "scrolled": true
   },
   "outputs": [
    {
     "data": {
      "text/html": [
       "<div>\n",
       "<style scoped>\n",
       "    .dataframe tbody tr th:only-of-type {\n",
       "        vertical-align: middle;\n",
       "    }\n",
       "\n",
       "    .dataframe tbody tr th {\n",
       "        vertical-align: top;\n",
       "    }\n",
       "\n",
       "    .dataframe thead th {\n",
       "        text-align: right;\n",
       "    }\n",
       "</style>\n",
       "<table border=\"1\" class=\"dataframe\">\n",
       "  <thead>\n",
       "    <tr style=\"text-align: right;\">\n",
       "      <th></th>\n",
       "      <th>コード</th>\n",
       "      <th>区分</th>\n",
       "    </tr>\n",
       "  </thead>\n",
       "  <tbody>\n",
       "    <tr>\n",
       "      <th>0</th>\n",
       "      <td>1</td>\n",
       "      <td>本票</td>\n",
       "    </tr>\n",
       "    <tr>\n",
       "      <th>1</th>\n",
       "      <td>2</td>\n",
       "      <td>補充票</td>\n",
       "    </tr>\n",
       "    <tr>\n",
       "      <th>2</th>\n",
       "      <td>3</td>\n",
       "      <td>高速票</td>\n",
       "    </tr>\n",
       "  </tbody>\n",
       "</table>\n",
       "</div>"
      ],
      "text/plain": [
       "   コード   区分\n",
       "0    1   本票\n",
       "1    2  補充票\n",
       "2    3  高速票"
      ]
     },
     "execution_count": 16,
     "metadata": {},
     "output_type": "execute_result"
    }
   ],
   "source": [
    "fileType"
   ]
  },
  {
   "cell_type": "code",
   "execution_count": 17,
   "id": "84d5eae4",
   "metadata": {},
   "outputs": [
    {
     "data": {
      "text/html": [
       "<div>\n",
       "<style scoped>\n",
       "    .dataframe tbody tr th:only-of-type {\n",
       "        vertical-align: middle;\n",
       "    }\n",
       "\n",
       "    .dataframe tbody tr th {\n",
       "        vertical-align: top;\n",
       "    }\n",
       "\n",
       "    .dataframe thead th {\n",
       "        text-align: right;\n",
       "    }\n",
       "</style>\n",
       "<table border=\"1\" class=\"dataframe\">\n",
       "  <thead>\n",
       "    <tr style=\"text-align: right;\">\n",
       "      <th></th>\n",
       "      <th>コード</th>\n",
       "      <th>区分</th>\n",
       "    </tr>\n",
       "  </thead>\n",
       "  <tbody>\n",
       "    <tr>\n",
       "      <th>0</th>\n",
       "      <td>1</td>\n",
       "      <td>0～24歳</td>\n",
       "    </tr>\n",
       "    <tr>\n",
       "      <th>1</th>\n",
       "      <td>25</td>\n",
       "      <td>25～34歳</td>\n",
       "    </tr>\n",
       "    <tr>\n",
       "      <th>2</th>\n",
       "      <td>35</td>\n",
       "      <td>35～44歳</td>\n",
       "    </tr>\n",
       "    <tr>\n",
       "      <th>3</th>\n",
       "      <td>45</td>\n",
       "      <td>45～54歳</td>\n",
       "    </tr>\n",
       "    <tr>\n",
       "      <th>4</th>\n",
       "      <td>55</td>\n",
       "      <td>55～64歳</td>\n",
       "    </tr>\n",
       "    <tr>\n",
       "      <th>5</th>\n",
       "      <td>65</td>\n",
       "      <td>65～74歳</td>\n",
       "    </tr>\n",
       "    <tr>\n",
       "      <th>6</th>\n",
       "      <td>75</td>\n",
       "      <td>75歳以上</td>\n",
       "    </tr>\n",
       "    <tr>\n",
       "      <th>7</th>\n",
       "      <td>0</td>\n",
       "      <td>不明</td>\n",
       "    </tr>\n",
       "  </tbody>\n",
       "</table>\n",
       "</div>"
      ],
      "text/plain": [
       "   コード      区分\n",
       "0    1   0～24歳\n",
       "1   25  25～34歳\n",
       "2   35  35～44歳\n",
       "3   45  45～54歳\n",
       "4   55  55～64歳\n",
       "5   65  65～74歳\n",
       "6   75   75歳以上\n",
       "7    0      不明"
      ]
     },
     "execution_count": 17,
     "metadata": {},
     "output_type": "execute_result"
    }
   ],
   "source": [
    "age = pd.read_csv(\"Data/master/30_koudohyou_nenrei.csv\", skiprows=4, usecols = range(0,2))\n",
    "age"
   ]
  },
  {
   "cell_type": "code",
   "execution_count": 18,
   "id": "f4e65c90",
   "metadata": {},
   "outputs": [],
   "source": [
    "accident_all[\"年齢（当事者A）\"] = accident_all[\"年齢（当事者A）\"] .map(age.set_index('コード').区分)\n",
    "accident_all[\"年齢（当事者B）\"] = accident_all[\"年齢（当事者B）\"] .map(age.set_index('コード').区分)"
   ]
  },
  {
   "cell_type": "code",
   "execution_count": 20,
   "id": "246184c3",
   "metadata": {},
   "outputs": [],
   "source": [
    "age_crosstab = pd.crosstab(accident_all[\"年齢（当事者A）\"],accident_all[\"年齢（当事者B）\"])"
   ]
  },
  {
   "cell_type": "code",
   "execution_count": 21,
   "id": "b371ba5f",
   "metadata": {
    "scrolled": true
   },
   "outputs": [
    {
     "data": {
      "text/html": [
       "<div>\n",
       "<style scoped>\n",
       "    .dataframe tbody tr th:only-of-type {\n",
       "        vertical-align: middle;\n",
       "    }\n",
       "\n",
       "    .dataframe tbody tr th {\n",
       "        vertical-align: top;\n",
       "    }\n",
       "\n",
       "    .dataframe thead th {\n",
       "        text-align: right;\n",
       "    }\n",
       "</style>\n",
       "<table border=\"1\" class=\"dataframe\">\n",
       "  <thead>\n",
       "    <tr style=\"text-align: right;\">\n",
       "      <th>年齢（当事者B）</th>\n",
       "      <th>0～24歳</th>\n",
       "      <th>25～34歳</th>\n",
       "      <th>35～44歳</th>\n",
       "      <th>45～54歳</th>\n",
       "      <th>55～64歳</th>\n",
       "      <th>65～74歳</th>\n",
       "      <th>75歳以上</th>\n",
       "      <th>不明</th>\n",
       "    </tr>\n",
       "    <tr>\n",
       "      <th>年齢（当事者A）</th>\n",
       "      <th></th>\n",
       "      <th></th>\n",
       "      <th></th>\n",
       "      <th></th>\n",
       "      <th></th>\n",
       "      <th></th>\n",
       "      <th></th>\n",
       "      <th></th>\n",
       "    </tr>\n",
       "  </thead>\n",
       "  <tbody>\n",
       "    <tr>\n",
       "      <th>0～24歳</th>\n",
       "      <td>18504</td>\n",
       "      <td>18523</td>\n",
       "      <td>19274</td>\n",
       "      <td>19914</td>\n",
       "      <td>12961</td>\n",
       "      <td>10117</td>\n",
       "      <td>6375</td>\n",
       "      <td>11180</td>\n",
       "    </tr>\n",
       "    <tr>\n",
       "      <th>25～34歳</th>\n",
       "      <td>27109</td>\n",
       "      <td>24855</td>\n",
       "      <td>25747</td>\n",
       "      <td>26783</td>\n",
       "      <td>17755</td>\n",
       "      <td>14889</td>\n",
       "      <td>10011</td>\n",
       "      <td>6034</td>\n",
       "    </tr>\n",
       "    <tr>\n",
       "      <th>35～44歳</th>\n",
       "      <td>32068</td>\n",
       "      <td>26802</td>\n",
       "      <td>27773</td>\n",
       "      <td>29369</td>\n",
       "      <td>19698</td>\n",
       "      <td>17142</td>\n",
       "      <td>12588</td>\n",
       "      <td>5869</td>\n",
       "    </tr>\n",
       "    <tr>\n",
       "      <th>45～54歳</th>\n",
       "      <td>36647</td>\n",
       "      <td>30256</td>\n",
       "      <td>31158</td>\n",
       "      <td>34601</td>\n",
       "      <td>22805</td>\n",
       "      <td>19490</td>\n",
       "      <td>15073</td>\n",
       "      <td>7215</td>\n",
       "    </tr>\n",
       "    <tr>\n",
       "      <th>55～64歳</th>\n",
       "      <td>26622</td>\n",
       "      <td>21559</td>\n",
       "      <td>22902</td>\n",
       "      <td>24504</td>\n",
       "      <td>17187</td>\n",
       "      <td>15053</td>\n",
       "      <td>11707</td>\n",
       "      <td>6124</td>\n",
       "    </tr>\n",
       "    <tr>\n",
       "      <th>65～74歳</th>\n",
       "      <td>23678</td>\n",
       "      <td>19300</td>\n",
       "      <td>20882</td>\n",
       "      <td>22410</td>\n",
       "      <td>15492</td>\n",
       "      <td>15486</td>\n",
       "      <td>13003</td>\n",
       "      <td>6558</td>\n",
       "    </tr>\n",
       "    <tr>\n",
       "      <th>75歳以上</th>\n",
       "      <td>11417</td>\n",
       "      <td>9635</td>\n",
       "      <td>10403</td>\n",
       "      <td>11354</td>\n",
       "      <td>8319</td>\n",
       "      <td>8887</td>\n",
       "      <td>8160</td>\n",
       "      <td>6325</td>\n",
       "    </tr>\n",
       "    <tr>\n",
       "      <th>不明</th>\n",
       "      <td>0</td>\n",
       "      <td>0</td>\n",
       "      <td>0</td>\n",
       "      <td>0</td>\n",
       "      <td>0</td>\n",
       "      <td>0</td>\n",
       "      <td>0</td>\n",
       "      <td>59</td>\n",
       "    </tr>\n",
       "  </tbody>\n",
       "</table>\n",
       "</div>"
      ],
      "text/plain": [
       "年齢（当事者B）  0～24歳  25～34歳  35～44歳  45～54歳  55～64歳  65～74歳  75歳以上     不明\n",
       "年齢（当事者A）                                                             \n",
       "0～24歳     18504   18523   19274   19914   12961   10117   6375  11180\n",
       "25～34歳    27109   24855   25747   26783   17755   14889  10011   6034\n",
       "35～44歳    32068   26802   27773   29369   19698   17142  12588   5869\n",
       "45～54歳    36647   30256   31158   34601   22805   19490  15073   7215\n",
       "55～64歳    26622   21559   22902   24504   17187   15053  11707   6124\n",
       "65～74歳    23678   19300   20882   22410   15492   15486  13003   6558\n",
       "75歳以上     11417    9635   10403   11354    8319    8887   8160   6325\n",
       "不明            0       0       0       0       0       0      0     59"
      ]
     },
     "execution_count": 21,
     "metadata": {},
     "output_type": "execute_result"
    }
   ],
   "source": [
    "age_crosstab"
   ]
  },
  {
   "cell_type": "code",
   "execution_count": 22,
   "id": "ca0eb083",
   "metadata": {},
   "outputs": [],
   "source": [
    "#pip install japanize-matplotlib"
   ]
  },
  {
   "cell_type": "code",
   "execution_count": 23,
   "id": "ded88ce7",
   "metadata": {},
   "outputs": [],
   "source": [
    "import japanize_matplotlib\n",
    "import matplotlib.pyplot as plt"
   ]
  },
  {
   "cell_type": "code",
   "execution_count": 24,
   "id": "8f81eb99",
   "metadata": {
    "scrolled": true
   },
   "outputs": [
    {
     "data": {
      "text/plain": [
       "<AxesSubplot:xlabel='年齢（当事者B）', ylabel='年齢（当事者A）'>"
      ]
     },
     "execution_count": 24,
     "metadata": {},
     "output_type": "execute_result"
    },
    {
     "data": {
      "image/png": "[encoded data removed]",
      "text/plain": [
       "<Figure size 1080x576 with 2 Axes>"
      ]
     },
     "metadata": {
      "needs_background": "light"
     },
     "output_type": "display_data"
    }
   ],
   "source": [
    "#sns.set(rc = {'figure.figsize':(15,8)})\n",
    "plt.figure(figsize = (15,8))\n",
    "sns.heatmap(age_crosstab, cmap=\"Greens\")"
   ]
  },
  {
   "cell_type": "code",
   "execution_count": null,
   "id": "ac4bb621",
   "metadata": {},
   "outputs": [],
   "source": []
  }
 ],
 "metadata": {
  "kernelspec": {
   "display_name": "Python 3 (ipykernel)",
   "language": "python",
   "name": "python3"
  },
  "language_info": {
   "codemirror_mode": {
    "name": "ipython",
    "version": 3
   },
   "file_extension": ".py",
   "mimetype": "text/x-python",
   "name": "python",
   "nbconvert_exporter": "python",
   "pygments_lexer": "ipython3",
   "version": "3.9.7"
  }
 },
 "nbformat": 4,
 "nbformat_minor": 5
}
